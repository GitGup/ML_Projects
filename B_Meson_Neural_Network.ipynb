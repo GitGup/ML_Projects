{
 "cells": [
  {
   "attachments": {},
   "cell_type": "markdown",
   "metadata": {},
   "source": [
    "Author: Gup\n",
    "\n",
    "Practicing Neural Network Implementation on very simple case of identifying B+ or B- mesons from\n",
    "\n",
    "$B^{\\pm}\\rightarrow K^{\\pm}K^{+}K^{-}$\n",
    "\n",
    "based on given kaon charge data"
   ]
  },
  {
   "cell_type": "code",
   "execution_count": 1,
   "metadata": {},
   "outputs": [
    {
     "name": "stderr",
     "output_type": "stream",
     "text": [
      "2023-01-22 18:38:30.323953: I tensorflow/core/platform/cpu_feature_guard.cc:193] This TensorFlow binary is optimized with oneAPI Deep Neural Network Library (oneDNN) to use the following CPU instructions in performance-critical operations:  AVX2 FMA\n",
      "To enable them in other operations, rebuild TensorFlow with the appropriate compiler flags.\n"
     ]
    }
   ],
   "source": [
    "import numpy as np\n",
    "from keras.models import Sequential\n",
    "from keras.layers import Dense\n",
    "import glob"
   ]
  },
  {
   "cell_type": "code",
   "execution_count": 13,
   "metadata": {},
   "outputs": [],
   "source": [
    "files = []\n",
    "eventData = []\n",
    "H1_Charge = []\n",
    "H2_Charge = []\n",
    "H3_Charge = []\n",
    "\n",
    "list_of_files = glob.glob('**/*.csv', recursive=True)\n",
    "for i in list_of_files:\n",
    "    files.append(i)\n",
    "    for line in open(i,\"r\"):\n",
    "        line = line.strip()\n",
    "        if(not \"#\" in line):\n",
    "            info = line.split(\",\")\n",
    "            eventData.append(line)\n",
    "            H1_Charge.append(int(info[7]))\n",
    "            H2_Charge.append(int(info[14]))\n",
    "            H3_Charge.append(int(info[21]))"
   ]
  },
  {
   "attachments": {},
   "cell_type": "markdown",
   "metadata": {},
   "source": [
    "Calculate the B+ and B- by hand to train the neural net (redudant but it's for the sake of practice)"
   ]
  },
  {
   "cell_type": "code",
   "execution_count": 17,
   "metadata": {},
   "outputs": [
    {
     "name": "stdout",
     "output_type": "stream",
     "text": [
      "$B^{+}$ decays = 13957\n",
      "$B^{-}$ decays = 13002\n",
      "A_global =  -0.03542416261730776\n"
     ]
    }
   ],
   "source": [
    "negativeCharges = 0\n",
    "positiveCharges = 0\n",
    "\n",
    "for i in range(len(H1_Charge)):\n",
    "    if (H1_Charge[i] + H2_Charge[i] + H3_Charge[i] == 1):\n",
    "        positiveCharges += 1\n",
    "    if (H1_Charge[i] + H2_Charge[i] + H3_Charge[i] == -1):\n",
    "        negativeCharges += 1\n",
    "        \n",
    "print(\"$B^{+}$ decays =\", positiveCharges)\n",
    "print(\"$B^{-}$ decays =\", negativeCharges)\n",
    "\n",
    "A_global = (negativeCharges - positiveCharges)/(negativeCharges + positiveCharges)\n",
    "print(\"A_global = \", A_global)"
   ]
  },
  {
   "cell_type": "code",
   "execution_count": null,
   "metadata": {},
   "outputs": [],
   "source": []
  }
 ],
 "metadata": {
  "kernelspec": {
   "display_name": "Python 3",
   "language": "python",
   "name": "python3"
  },
  "language_info": {
   "codemirror_mode": {
    "name": "ipython",
    "version": 3
   },
   "file_extension": ".py",
   "mimetype": "text/x-python",
   "name": "python",
   "nbconvert_exporter": "python",
   "pygments_lexer": "ipython3",
   "version": "3.9.6"
  },
  "orig_nbformat": 4,
  "vscode": {
   "interpreter": {
    "hash": "aee8b7b246df8f9039afb4144a1f6fd8d2ca17a180786b69acc140d282b71a49"
   }
  }
 },
 "nbformat": 4,
 "nbformat_minor": 2
}
