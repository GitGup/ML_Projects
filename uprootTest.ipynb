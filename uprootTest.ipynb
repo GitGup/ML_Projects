{
 "cells": [
  {
   "cell_type": "code",
   "execution_count": 1,
   "id": "1e54adef-95d8-4355-83b4-f3d6ed9af0bf",
   "metadata": {},
   "outputs": [],
   "source": [
    "import numpy as np\n",
    "import pandas as pd\n",
    "import awkward\n",
    "import uproot"
   ]
  },
  {
   "cell_type": "code",
   "execution_count": 8,
   "id": "9828a21d-cbb1-4cdc-963c-bf2c71207aa8",
   "metadata": {},
   "outputs": [
    {
     "name": "stdout",
     "output_type": "stream",
     "text": [
      "Defaulting to user installation because normal site-packages is not writeable\n",
      "Collecting uproot\n",
      "  Using cached uproot-5.0.2-py3-none-any.whl (320 kB)\n",
      "Requirement already satisfied: numpy in /global/common/software/nersc/pm-2022q3/sw/python/3.9-anaconda-2021.11/lib/python3.9/site-packages (from uproot) (1.21.5)\n",
      "Requirement already satisfied: packaging in /global/common/software/nersc/pm-2022q3/sw/python/3.9-anaconda-2021.11/lib/python3.9/site-packages (from uproot) (21.3)\n",
      "Collecting awkward>=2.0.0\n",
      "  Downloading awkward-2.0.7-py3-none-any.whl (568 kB)\n",
      "\u001b[2K     \u001b[90m━━━━━━━━━━━━━━━━━━━━━━━━━━━━━━━━━━━━━━━\u001b[0m \u001b[32m569.0/569.0 kB\u001b[0m \u001b[31m1.8 MB/s\u001b[0m eta \u001b[36m0:00:00\u001b[0m00:01\u001b[0m\n",
      "\u001b[?25hCollecting awkward-cpp==8\n",
      "  Downloading awkward_cpp-8-cp39-cp39-manylinux_2_17_x86_64.manylinux2014_x86_64.whl (1.1 MB)\n",
      "\u001b[2K     \u001b[90m━━━━━━━━━━━━━━━━━━━━━━━━━━━━━━━━━━━━━━━━\u001b[0m \u001b[32m1.1/1.1 MB\u001b[0m \u001b[31m34.6 MB/s\u001b[0m eta \u001b[36m0:00:00\u001b[0m\n",
      "\u001b[?25hRequirement already satisfied: typing-extensions>=4.1.0 in /global/common/software/nersc/pm-2022q3/sw/python/3.9-anaconda-2021.11/lib/python3.9/site-packages (from awkward>=2.0.0->uproot) (4.3.0)\n",
      "Requirement already satisfied: pyparsing!=3.0.5,>=2.0.2 in /global/common/software/nersc/pm-2022q3/sw/python/3.9-anaconda-2021.11/lib/python3.9/site-packages (from packaging->uproot) (3.0.9)\n",
      "Installing collected packages: awkward-cpp, awkward, uproot\n",
      "Successfully installed awkward-2.0.7 awkward-cpp-8 uproot-5.0.2\n",
      "Note: you may need to restart the kernel to use updated packages.\n"
     ]
    }
   ],
   "source": [
    "%pip install uproot"
   ]
  },
  {
   "cell_type": "code",
   "execution_count": 2,
   "id": "856a7b19-fa1a-4029-89e6-6b8f79baafbc",
   "metadata": {},
   "outputs": [
    {
     "name": "stdout",
     "output_type": "stream",
     "text": [
      "Defaulting to user installation because normal site-packages is not writeable\n",
      "Requirement already satisfied: awkward-pandas in /global/u2/g/gupsingh/.local/perlmutter/3.9-anaconda-2021.11/lib/python3.9/site-packages (2022.12a1)\n",
      "Requirement already satisfied: awkward>=2.0.0 in /global/u2/g/gupsingh/.local/perlmutter/3.9-anaconda-2021.11/lib/python3.9/site-packages (from awkward-pandas) (2.0.7)\n",
      "Requirement already satisfied: pandas>=1.2 in /global/common/software/nersc/pm-2022q3/sw/python/3.9-anaconda-2021.11/lib/python3.9/site-packages (from awkward-pandas) (1.4.3)\n",
      "Requirement already satisfied: packaging in /global/common/software/nersc/pm-2022q3/sw/python/3.9-anaconda-2021.11/lib/python3.9/site-packages (from awkward>=2.0.0->awkward-pandas) (21.3)\n",
      "Requirement already satisfied: typing-extensions>=4.1.0 in /global/common/software/nersc/pm-2022q3/sw/python/3.9-anaconda-2021.11/lib/python3.9/site-packages (from awkward>=2.0.0->awkward-pandas) (4.3.0)\n",
      "Requirement already satisfied: numpy>=1.14.5 in /global/common/software/nersc/pm-2022q3/sw/python/3.9-anaconda-2021.11/lib/python3.9/site-packages (from awkward>=2.0.0->awkward-pandas) (1.21.5)\n",
      "Requirement already satisfied: awkward-cpp==8 in /global/u2/g/gupsingh/.local/perlmutter/3.9-anaconda-2021.11/lib/python3.9/site-packages (from awkward>=2.0.0->awkward-pandas) (8)\n",
      "Requirement already satisfied: python-dateutil>=2.8.1 in /global/common/software/nersc/pm-2022q3/sw/python/3.9-anaconda-2021.11/lib/python3.9/site-packages (from pandas>=1.2->awkward-pandas) (2.8.2)\n",
      "Requirement already satisfied: pytz>=2020.1 in /global/common/software/nersc/pm-2022q3/sw/python/3.9-anaconda-2021.11/lib/python3.9/site-packages (from pandas>=1.2->awkward-pandas) (2022.1)\n",
      "Requirement already satisfied: six>=1.5 in /global/common/software/nersc/pm-2022q3/sw/python/3.9-anaconda-2021.11/lib/python3.9/site-packages (from python-dateutil>=2.8.1->pandas>=1.2->awkward-pandas) (1.16.0)\n",
      "Requirement already satisfied: pyparsing!=3.0.5,>=2.0.2 in /global/common/software/nersc/pm-2022q3/sw/python/3.9-anaconda-2021.11/lib/python3.9/site-packages (from packaging->awkward>=2.0.0->awkward-pandas) (3.0.9)\n",
      "Note: you may need to restart the kernel to use updated packages.\n"
     ]
    }
   ],
   "source": [
    "%pip install awkward-pandas"
   ]
  },
  {
   "cell_type": "code",
   "execution_count": 39,
   "id": "fe75575d-f3ed-4e06-8e8a-981a293274f1",
   "metadata": {},
   "outputs": [],
   "source": [
    "file = uproot.open(\"/global/cfs/cdirs/atlas/gottino/Charm/Analysis/run_batch_tmp/CharmAnalysis.SingleParticleGun.1.ForcedDecay.LambdaC.tree.merge.default.loosecuts.root:CharmAnalysis\")\n",
    "\n",
    "#tree = file[\"CharmAnalysis;1\"]\n",
    "# data = tree.arrays([\"DMesons_pt\"])\n",
    "\n",
    "# print(data)"
   ]
  },
  {
   "cell_type": "code",
   "execution_count": 40,
   "id": "6f997711-e4d9-47c7-91e8-920dfca0ebe0",
   "metadata": {
    "tags": []
   },
   "outputs": [
    {
     "data": {
      "text/plain": [
       "['EventInfo_eventNumber',\n",
       " 'EventInfo_RandomRunNumber',\n",
       " 'CharmEventInfo_TopWeight',\n",
       " 'CharmEventInfo_PV_X',\n",
       " 'CharmEventInfo_PV_Y',\n",
       " 'CharmEventInfo_PV_Z',\n",
       " 'CharmEventInfo_beamPosX',\n",
       " 'CharmEventInfo_beamPosY',\n",
       " 'CharmEventInfo_beamPosZ',\n",
       " 'CharmEventInfo_beamPosSigmaX',\n",
       " 'CharmEventInfo_beamPosSigmaY',\n",
       " 'CharmEventInfo_beamPosSigmaZ',\n",
       " 'DMesons_pt',\n",
       " 'DMesons_m',\n",
       " 'DMesons_eta',\n",
       " 'DMesons_phi',\n",
       " 'DMesons_pdgId',\n",
       " 'DMesons_ptcone40',\n",
       " 'DMesons_D0Index',\n",
       " 'DMesons_DeltaMass',\n",
       " 'DMesons_SlowPionD0',\n",
       " 'DMesons_SlowPionZ0SinTheta',\n",
       " 'DMesons_decayType',\n",
       " 'DMesons_truthBarcode',\n",
       " 'DMesons_fitOutput__Impact',\n",
       " 'DMesons_fitOutput__ImpactError',\n",
       " 'DMesons_fitOutput__ImpactZ0',\n",
       " 'DMesons_fitOutput__ImpactZ0Error',\n",
       " 'DMesons_fitOutput__ImpactTheta',\n",
       " 'DMesons_fitOutput__ImpactZ0SinTheta',\n",
       " 'DMesons_fitOutput__ImpactSignificance',\n",
       " 'DMesons_fitOutput__Charge',\n",
       " 'DMesons_fitOutput__Lxy',\n",
       " 'DMesons_fitOutput__LxyErr',\n",
       " 'DMesons_fitOutput__Chi2',\n",
       " 'DMesons_costhetastar',\n",
       " 'DMesons_mKpi1',\n",
       " 'DMesons_mKpi2',\n",
       " 'DMesons_mPhi1',\n",
       " 'DMesons_mPhi2',\n",
       " 'DMesons_mKpipi',\n",
       " 'DMesons_daughterInfo__passLoose',\n",
       " 'DMesons_daughterInfo__passTight',\n",
       " 'DMesons_daughterInfo__truthMatchProbability',\n",
       " 'DMesons_daughterInfo__trackId',\n",
       " 'DMesons_daughterInfo__pdgId',\n",
       " 'DMesons_daughterInfo__pt',\n",
       " 'DMesons_daughterInfo__eta',\n",
       " 'DMesons_daughterInfo__phi',\n",
       " 'DMesons_daughterInfo__truthBarcode',\n",
       " 'DMesons_daughterInfo__truthDBarcode',\n",
       " 'DMesons_daughterInfo__z0SinTheta',\n",
       " 'DMesons_daughterInfo__z0SinThetaPV',\n",
       " 'DMesons_fitOutput__VertexPosition',\n",
       " 'TruthParticles_Selected_pt',\n",
       " 'TruthParticles_Selected_m',\n",
       " 'TruthParticles_Selected_eta',\n",
       " 'TruthParticles_Selected_phi',\n",
       " 'TruthParticles_Selected_barcode',\n",
       " 'TruthParticles_Selected_pdgId',\n",
       " 'TruthParticles_Selected_status',\n",
       " 'TruthParticles_Selected_vertexPosition',\n",
       " 'TruthParticles_Selected_cosThetaStarT',\n",
       " 'TruthParticles_Selected_LxyT',\n",
       " 'TruthParticles_Selected_ImpactT',\n",
       " 'TruthParticles_Selected_decayMode',\n",
       " 'TruthParticles_Selected_fromBdecay',\n",
       " 'TruthParticles_Selected_daughterInfoT__pdgId',\n",
       " 'TruthParticles_Selected_daughterInfoT__barcode',\n",
       " 'TruthParticles_Selected_daughterInfoT__pt',\n",
       " 'TruthParticles_Selected_daughterInfoT__eta',\n",
       " 'TruthParticles_Selected_daughterInfoT__phi',\n",
       " 'TruthLeptons_pt',\n",
       " 'TruthLeptons_m',\n",
       " 'TruthLeptons_e',\n",
       " 'TruthLeptons_eta',\n",
       " 'TruthLeptons_phi',\n",
       " 'TruthLeptons_barcode',\n",
       " 'TruthLeptons_pdgId',\n",
       " 'TruthLeptons_status',\n",
       " 'TruthLeptons_classifierParticleOrigin',\n",
       " 'TruthLeptons_classifierParticleType',\n",
       " 'TruthLeptons_e_dressed',\n",
       " 'TruthLeptons_eta_dressed',\n",
       " 'TruthLeptons_phi_dressed',\n",
       " 'TruthLeptons_pt_dressed']"
      ]
     },
     "execution_count": 40,
     "metadata": {},
     "output_type": "execute_result"
    }
   ],
   "source": [
    "file.keys()"
   ]
  },
  {
   "cell_type": "code",
   "execution_count": 54,
   "id": "fee7a5c5-8ab6-4388-ae80-0b29487a43d1",
   "metadata": {},
   "outputs": [
    {
     "data": {
      "text/plain": [
       "['DMesons_pt', 'DMesons_m', 'DMesons_eta']"
      ]
     },
     "execution_count": 54,
     "metadata": {},
     "output_type": "execute_result"
    }
   ],
   "source": [
    "key_list = []\n",
    "for i in range(12, 15):\n",
    "    key_list.append(tree.keys()[i])\n",
    "\n",
    "key_list"
   ]
  },
  {
   "cell_type": "code",
   "execution_count": 55,
   "id": "4a7452ea-533f-4acb-9371-462b57ac9b88",
   "metadata": {},
   "outputs": [
    {
     "data": {
      "text/html": [
       "<div>\n",
       "<style scoped>\n",
       "    .dataframe tbody tr th:only-of-type {\n",
       "        vertical-align: middle;\n",
       "    }\n",
       "\n",
       "    .dataframe tbody tr th {\n",
       "        vertical-align: top;\n",
       "    }\n",
       "\n",
       "    .dataframe thead th {\n",
       "        text-align: right;\n",
       "    }\n",
       "</style>\n",
       "<table border=\"1\" class=\"dataframe\">\n",
       "  <thead>\n",
       "    <tr style=\"text-align: right;\">\n",
       "      <th></th>\n",
       "      <th>DMesons_pt</th>\n",
       "      <th>DMesons_m</th>\n",
       "      <th>DMesons_eta</th>\n",
       "    </tr>\n",
       "  </thead>\n",
       "  <tbody>\n",
       "    <tr>\n",
       "      <th>0</th>\n",
       "      <td>[]</td>\n",
       "      <td>[]</td>\n",
       "      <td>[]</td>\n",
       "    </tr>\n",
       "    <tr>\n",
       "      <th>1</th>\n",
       "      <td>[12935.843, 12935.843]</td>\n",
       "      <td>[1973.065, 2275.632]</td>\n",
       "      <td>[-0.43086535, -0.43086535]</td>\n",
       "    </tr>\n",
       "    <tr>\n",
       "      <th>2</th>\n",
       "      <td>[]</td>\n",
       "      <td>[]</td>\n",
       "      <td>[]</td>\n",
       "    </tr>\n",
       "    <tr>\n",
       "      <th>3</th>\n",
       "      <td>[15837.362, 15837.362, 15837.362]</td>\n",
       "      <td>[1778.423, 2277.83, 2369.549]</td>\n",
       "      <td>[-1.9853406, -1.9853406, -1.9853406]</td>\n",
       "    </tr>\n",
       "    <tr>\n",
       "      <th>4</th>\n",
       "      <td>[]</td>\n",
       "      <td>[]</td>\n",
       "      <td>[]</td>\n",
       "    </tr>\n",
       "    <tr>\n",
       "      <th>...</th>\n",
       "      <td>...</td>\n",
       "      <td>...</td>\n",
       "      <td>...</td>\n",
       "    </tr>\n",
       "    <tr>\n",
       "      <th>999995</th>\n",
       "      <td>[]</td>\n",
       "      <td>[]</td>\n",
       "      <td>[]</td>\n",
       "    </tr>\n",
       "    <tr>\n",
       "      <th>999996</th>\n",
       "      <td>[10990.987, 10990.987]</td>\n",
       "      <td>[1809.0774, 2290.5708]</td>\n",
       "      <td>[0.39566922, 0.39566922]</td>\n",
       "    </tr>\n",
       "    <tr>\n",
       "      <th>999997</th>\n",
       "      <td>[]</td>\n",
       "      <td>[]</td>\n",
       "      <td>[]</td>\n",
       "    </tr>\n",
       "    <tr>\n",
       "      <th>999998</th>\n",
       "      <td>[37313.227, 37313.227]</td>\n",
       "      <td>[1768.9451, 2308.049]</td>\n",
       "      <td>[-1.1318593, -1.1318593]</td>\n",
       "    </tr>\n",
       "    <tr>\n",
       "      <th>999999</th>\n",
       "      <td>[9253.899]</td>\n",
       "      <td>[2282.283]</td>\n",
       "      <td>[-1.8050858]</td>\n",
       "    </tr>\n",
       "  </tbody>\n",
       "</table>\n",
       "<p>1000000 rows × 3 columns</p>\n",
       "</div>"
      ],
      "text/plain": [
       "                               DMesons_pt                      DMesons_m  \\\n",
       "0                                      []                             []   \n",
       "1                  [12935.843, 12935.843]           [1973.065, 2275.632]   \n",
       "2                                      []                             []   \n",
       "3       [15837.362, 15837.362, 15837.362]  [1778.423, 2277.83, 2369.549]   \n",
       "4                                      []                             []   \n",
       "...                                   ...                            ...   \n",
       "999995                                 []                             []   \n",
       "999996             [10990.987, 10990.987]         [1809.0774, 2290.5708]   \n",
       "999997                                 []                             []   \n",
       "999998             [37313.227, 37313.227]          [1768.9451, 2308.049]   \n",
       "999999                         [9253.899]                     [2282.283]   \n",
       "\n",
       "                                 DMesons_eta  \n",
       "0                                         []  \n",
       "1                 [-0.43086535, -0.43086535]  \n",
       "2                                         []  \n",
       "3       [-1.9853406, -1.9853406, -1.9853406]  \n",
       "4                                         []  \n",
       "...                                      ...  \n",
       "999995                                    []  \n",
       "999996              [0.39566922, 0.39566922]  \n",
       "999997                                    []  \n",
       "999998              [-1.1318593, -1.1318593]  \n",
       "999999                          [-1.8050858]  \n",
       "\n",
       "[1000000 rows x 3 columns]"
      ]
     },
     "execution_count": 55,
     "metadata": {},
     "output_type": "execute_result"
    }
   ],
   "source": [
    "file1 = uproot.open(\"/global/cfs/cdirs/atlas/gottino/Charm/Analysis/run_batch_tmp/CharmAnalysis.SingleParticleGun.1.ForcedDecay.LambdaC.tree.merge.default.loosecuts.root\")\n",
    "\n",
    "tree = file1[\"CharmAnalysis;1\"]\n",
    "\n",
    "# file[\"DMesons_pt\"].array(library=\"np\")\n",
    "\n",
    "# for i in range(len(file.keys())):\n",
    "#     file[file.keys()[i]]\n",
    "data = {key: tree[key].array(library=\"np\") for key in key_list}\n",
    "df = pd.DataFrame(data)\n",
    "\n",
    "df"
   ]
  },
  {
   "cell_type": "code",
   "execution_count": 52,
   "id": "7b89e7ff-abe5-4440-8afd-9f1fe8f4e62f",
   "metadata": {},
   "outputs": [
    {
     "data": {
      "text/plain": [
       "['EventInfo_eventNumber',\n",
       " 'EventInfo_RandomRunNumber',\n",
       " 'CharmEventInfo_TopWeight',\n",
       " 'CharmEventInfo_PV_X',\n",
       " 'CharmEventInfo_PV_Y',\n",
       " 'CharmEventInfo_PV_Z',\n",
       " 'CharmEventInfo_beamPosX',\n",
       " 'CharmEventInfo_beamPosY',\n",
       " 'CharmEventInfo_beamPosZ',\n",
       " 'CharmEventInfo_beamPosSigmaX',\n",
       " 'CharmEventInfo_beamPosSigmaY',\n",
       " 'CharmEventInfo_beamPosSigmaZ',\n",
       " 'DMesons_pt',\n",
       " 'DMesons_m',\n",
       " 'DMesons_eta',\n",
       " 'DMesons_phi',\n",
       " 'DMesons_pdgId',\n",
       " 'DMesons_ptcone40',\n",
       " 'DMesons_D0Index',\n",
       " 'DMesons_DeltaMass',\n",
       " 'DMesons_SlowPionD0',\n",
       " 'DMesons_SlowPionZ0SinTheta',\n",
       " 'DMesons_decayType',\n",
       " 'DMesons_truthBarcode',\n",
       " 'DMesons_fitOutput__Impact',\n",
       " 'DMesons_fitOutput__ImpactError',\n",
       " 'DMesons_fitOutput__ImpactZ0',\n",
       " 'DMesons_fitOutput__ImpactZ0Error',\n",
       " 'DMesons_fitOutput__ImpactTheta',\n",
       " 'DMesons_fitOutput__ImpactZ0SinTheta',\n",
       " 'DMesons_fitOutput__ImpactSignificance',\n",
       " 'DMesons_fitOutput__Charge',\n",
       " 'DMesons_fitOutput__Lxy',\n",
       " 'DMesons_fitOutput__LxyErr',\n",
       " 'DMesons_fitOutput__Chi2',\n",
       " 'DMesons_costhetastar',\n",
       " 'DMesons_mKpi1',\n",
       " 'DMesons_mKpi2',\n",
       " 'DMesons_mPhi1',\n",
       " 'DMesons_mPhi2',\n",
       " 'DMesons_mKpipi',\n",
       " 'DMesons_daughterInfo__passLoose',\n",
       " 'DMesons_daughterInfo__passTight',\n",
       " 'DMesons_daughterInfo__truthMatchProbability',\n",
       " 'DMesons_daughterInfo__trackId',\n",
       " 'DMesons_daughterInfo__pdgId',\n",
       " 'DMesons_daughterInfo__pt',\n",
       " 'DMesons_daughterInfo__eta',\n",
       " 'DMesons_daughterInfo__phi',\n",
       " 'DMesons_daughterInfo__truthBarcode',\n",
       " 'DMesons_daughterInfo__truthDBarcode',\n",
       " 'DMesons_daughterInfo__z0SinTheta',\n",
       " 'DMesons_daughterInfo__z0SinThetaPV',\n",
       " 'DMesons_fitOutput__VertexPosition',\n",
       " 'TruthParticles_Selected_pt',\n",
       " 'TruthParticles_Selected_m',\n",
       " 'TruthParticles_Selected_eta',\n",
       " 'TruthParticles_Selected_phi',\n",
       " 'TruthParticles_Selected_barcode',\n",
       " 'TruthParticles_Selected_pdgId',\n",
       " 'TruthParticles_Selected_status',\n",
       " 'TruthParticles_Selected_vertexPosition',\n",
       " 'TruthParticles_Selected_cosThetaStarT',\n",
       " 'TruthParticles_Selected_LxyT',\n",
       " 'TruthParticles_Selected_ImpactT',\n",
       " 'TruthParticles_Selected_decayMode',\n",
       " 'TruthParticles_Selected_fromBdecay',\n",
       " 'TruthParticles_Selected_daughterInfoT__pdgId',\n",
       " 'TruthParticles_Selected_daughterInfoT__barcode',\n",
       " 'TruthParticles_Selected_daughterInfoT__pt',\n",
       " 'TruthParticles_Selected_daughterInfoT__eta',\n",
       " 'TruthParticles_Selected_daughterInfoT__phi',\n",
       " 'TruthLeptons_pt',\n",
       " 'TruthLeptons_m',\n",
       " 'TruthLeptons_e',\n",
       " 'TruthLeptons_eta',\n",
       " 'TruthLeptons_phi',\n",
       " 'TruthLeptons_barcode',\n",
       " 'TruthLeptons_pdgId',\n",
       " 'TruthLeptons_status',\n",
       " 'TruthLeptons_classifierParticleOrigin',\n",
       " 'TruthLeptons_classifierParticleType',\n",
       " 'TruthLeptons_e_dressed',\n",
       " 'TruthLeptons_eta_dressed',\n",
       " 'TruthLeptons_phi_dressed',\n",
       " 'TruthLeptons_pt_dressed']"
      ]
     },
     "execution_count": 52,
     "metadata": {},
     "output_type": "execute_result"
    }
   ],
   "source": [
    "tree.keys()"
   ]
  },
  {
   "cell_type": "code",
   "execution_count": 25,
   "id": "32e9a03f-89d8-45d6-b6db-a1fd07ed6ba6",
   "metadata": {},
   "outputs": [
    {
     "data": {
      "text/html": [
       "<pre>{DMesons_pt: [1.29e+04, 1.29e+04],\n",
       " DMesons_m: [1.97e+03, 2.28e+03],\n",
       " DMesons_eta: [-0.431, -0.431]}\n",
       "----------------------------------\n",
       "type: {\n",
       "    DMesons_pt: var * float32,\n",
       "    DMesons_m: var * float32,\n",
       "    DMesons_eta: var * float32\n",
       "}</pre>"
      ],
      "text/plain": [
       "<Record {DMesons_pt: [...], DMesons_m: ..., ...} type='{DMesons_pt: var * f...'>"
      ]
     },
     "execution_count": 25,
     "metadata": {},
     "output_type": "execute_result"
    }
   ],
   "source": [
    "data[1]"
   ]
  },
  {
   "cell_type": "code",
   "execution_count": null,
   "id": "61cd8774-5813-4562-9e86-29250d146389",
   "metadata": {},
   "outputs": [],
   "source": []
  }
 ],
 "metadata": {
  "kernelspec": {
   "display_name": "NERSC Python",
   "language": "python",
   "name": "python3"
  },
  "language_info": {
   "codemirror_mode": {
    "name": "ipython",
    "version": 3
   },
   "file_extension": ".py",
   "mimetype": "text/x-python",
   "name": "python",
   "nbconvert_exporter": "python",
   "pygments_lexer": "ipython3",
   "version": "3.9.7"
  }
 },
 "nbformat": 4,
 "nbformat_minor": 5
}
