{
 "cells": [
  {
   "cell_type": "markdown",
   "id": "aff90022-7057-4283-9712-28ca699f4e1d",
   "metadata": {},
   "source": [
    "MC simulated samples of lambda and D"
   ]
  },
  {
   "cell_type": "code",
   "execution_count": 97,
   "id": "05e01099-3202-46db-a67b-fc89a6069aff",
   "metadata": {},
   "outputs": [],
   "source": [
    "import uproot\n",
    "import numpy as np\n",
    "import pandas as pd\n",
    "import os\n",
    "\n",
    "import matplotlib.pyplot as plt"
   ]
  },
  {
   "cell_type": "code",
   "execution_count": 98,
   "id": "0855224c-2de9-4be3-bbb1-26d832dc872b",
   "metadata": {},
   "outputs": [
    {
     "name": "stdout",
     "output_type": "stream",
     "text": [
      "Defaulting to user installation because normal site-packages is not writeable\n",
      "\u001b[31mERROR: Could not find a version that satisfies the requirement ROOT (from versions: none)\u001b[0m\n",
      "\u001b[31mERROR: No matching distribution found for ROOT\u001b[0m\n",
      "Note: you may need to restart the kernel to use updated packages.\n"
     ]
    }
   ],
   "source": [
    "%pip install ROOT"
   ]
  },
  {
   "cell_type": "code",
   "execution_count": 22,
   "id": "58f86cd4-dadc-4a89-8668-37dfb125c82d",
   "metadata": {},
   "outputs": [
    {
     "name": "stdout",
     "output_type": "stream",
     "text": [
      "['CharmAnalysis.mc.ForcedDecay.Dplus.tree.root', 'CharmAnalysis.mc.ForcedDecay.LabmdaC.tree.root']\n"
     ]
    }
   ],
   "source": [
    "dir_path = \"/global/cfs/cdirs/atlas/gottino/Charm/Analysis/run_batch_gup/ntuples\"\n",
    "\n",
    "ntuples = os.listdir(dir_path)\n",
    "print(ntuples)"
   ]
  },
  {
   "cell_type": "code",
   "execution_count": 93,
   "id": "0db4dccf-b4af-4e4f-9f0f-35d58ba5c748",
   "metadata": {},
   "outputs": [],
   "source": [
    "#processes ntunples given directory: returns trees \n",
    "def process_ntuple(ntuples):\n",
    "    tree_list = []\n",
    "    for ntuple in ntuples:\n",
    "        file = uproot.open(dir_path + \"/\" + ntuple)\n",
    "        tree = file[\"CharmAnalysis;1\"]\n",
    "        tree_list.append(tree)\n",
    "    return tree_list\n",
    "\n",
    "#event #, list of branches, and batch size: returns tuple of branches with data\n",
    "def show(event, branches, batch_size):\n",
    "    current_event = 0\n",
    "    for array in process_ntuple(ntuples)[0].iterate(branches, step_size = batch_size):\n",
    "        arrays = array[branches]\n",
    "        if current_event == event:\n",
    "            break\n",
    "        current_event+=1\n",
    "    return arrays\n"
   ]
  },
  {
   "cell_type": "code",
   "execution_count": 94,
   "id": "ee857ae0-769a-4e67-94c7-c1a460a26e7c",
   "metadata": {},
   "outputs": [
    {
     "data": {
      "text/plain": [
       "[<TTree 'CharmAnalysis' (166 branches) at 0x154f177dba90>,\n",
       " <TTree 'CharmAnalysis' (166 branches) at 0x154f178005b0>]"
      ]
     },
     "execution_count": 94,
     "metadata": {},
     "output_type": "execute_result"
    }
   ],
   "source": [
    "trees = process_ntuple(ntuples)\n",
    "trees"
   ]
  },
  {
   "cell_type": "code",
   "execution_count": 95,
   "id": "bb136256-8e4a-49fb-bcd9-6c163c1ff668",
   "metadata": {},
   "outputs": [
    {
     "data": {
      "text/html": [
       "<pre>[{DMesons_pt: [5.74e+03, 5.74e+03], DMesons_m: [...]},\n",
       " {DMesons_pt: [1e+04], DMesons_m: [1.86e+03]},\n",
       " {DMesons_pt: [1.9e+04, 1.9e+04], DMesons_m: [...]},\n",
       " {DMesons_pt: [], DMesons_m: []},\n",
       " {DMesons_pt: [], DMesons_m: []},\n",
       " {DMesons_pt: [], DMesons_m: []},\n",
       " {DMesons_pt: [1.01e+04, 1.01e+04], DMesons_m: [...]},\n",
       " {DMesons_pt: [1.26e+04, 1.26e+04], DMesons_m: [...]},\n",
       " {DMesons_pt: [], DMesons_m: []},\n",
       " {DMesons_pt: [3.61e+04], DMesons_m: [2.24e+03]},\n",
       " ...,\n",
       " {DMesons_pt: [], DMesons_m: []},\n",
       " {DMesons_pt: [2.27e+04, 2.27e+04], DMesons_m: [...]},\n",
       " {DMesons_pt: [1.24e+04, 1.24e+04], DMesons_m: [...]},\n",
       " {DMesons_pt: [2.08e+04], DMesons_m: [2.31e+03]},\n",
       " {DMesons_pt: [3.09e+04, 3.09e+04], DMesons_m: [...]},\n",
       " {DMesons_pt: [], DMesons_m: []},\n",
       " {DMesons_pt: [], DMesons_m: []},\n",
       " {DMesons_pt: [6.78e+03], DMesons_m: [2.42e+03]},\n",
       " {DMesons_pt: [7.19e+03, 7.19e+03], DMesons_m: [...]}]\n",
       "------------------------------------------------------\n",
       "type: 100 * {\n",
       "    DMesons_pt: var * float32,\n",
       "    DMesons_m: var * float32\n",
       "}</pre>"
      ],
      "text/plain": [
       "<Array [{DMesons_pt: [...], ...}, ..., {...}] type='100 * {DMesons_pt: var ...'>"
      ]
     },
     "execution_count": 95,
     "metadata": {},
     "output_type": "execute_result"
    }
   ],
   "source": [
    "show(0, [\"DMesons_pt\", \"DMesons_m\"], 100)"
   ]
  },
  {
   "cell_type": "code",
   "execution_count": 32,
   "id": "0e346919-5542-4434-8f2a-20bf9c7f40e2",
   "metadata": {},
   "outputs": [],
   "source": [
    "file1 = uproot.open(\"/global/cfs/cdirs/atlas/gottino/Charm/Analysis/run_batch_gup/ntuples/CharmAnalysis.mc.ForcedDecay.Dplus.tree.root\")\n",
    "file2 = uproot.open(\"/global/cfs/cdirs/atlas/gottino/Charm/Analysis/run_batch_gup/ntuples/CharmAnalysis.mc.ForcedDecay.LabmdaC.tree.root\")"
   ]
  },
  {
   "cell_type": "code",
   "execution_count": 85,
   "id": "39d4cdb4-708a-4446-a8fa-e3779b6605ac",
   "metadata": {},
   "outputs": [
    {
     "data": {
      "text/plain": [
       "uproot.models.TTree.Model_TTree_v20"
      ]
     },
     "execution_count": 85,
     "metadata": {},
     "output_type": "execute_result"
    }
   ],
   "source": [
    "type(DplusTree)"
   ]
  },
  {
   "cell_type": "code",
   "execution_count": 33,
   "id": "14f447ec-521d-481e-a4ed-04a420178a02",
   "metadata": {},
   "outputs": [
    {
     "data": {
      "text/html": [
       "<pre>[[5.74e+03, 5.74e+03],\n",
       " [1e+04],\n",
       " [1.9e+04, 1.9e+04],\n",
       " [],\n",
       " [],\n",
       " [],\n",
       " [1.01e+04, 1.01e+04],\n",
       " [1.26e+04, 1.26e+04],\n",
       " [],\n",
       " [3.61e+04],\n",
       " ...,\n",
       " [],\n",
       " [],\n",
       " [1.8e+04],\n",
       " [6.29e+04, 6.29e+04],\n",
       " [],\n",
       " [1.48e+04, 1.48e+04],\n",
       " [],\n",
       " [3.94e+04],\n",
       " [1.14e+04, 1.14e+04]]\n",
       "------------------------------\n",
       "type: 20000000 * var * float32</pre>"
      ],
      "text/plain": [
       "<Array [[5.74e+03, 5.74e+03], ..., [...]] type='20000000 * var * float32'>"
      ]
     },
     "execution_count": 33,
     "metadata": {},
     "output_type": "execute_result"
    }
   ],
   "source": [
    "DplusTree = file1[\"CharmAnalysis;1\"]\n",
    "LambdaCTree = file2[\"CharmAnalysis;1\"]\n",
    "\n",
    "DplusTree[\"DMesons_pt\"].array()"
   ]
  },
  {
   "cell_type": "code",
   "execution_count": 36,
   "id": "d5a5aae1-5b4d-4b06-9766-8795af1c1f72",
   "metadata": {},
   "outputs": [
    {
     "name": "stdout",
     "output_type": "stream",
     "text": [
      "name                 | typename                 | interpretation                \n",
      "---------------------+--------------------------+-------------------------------\n",
      "EventInfo_eventNu... | uint64_t                 | AsDtype('>u8')\n",
      "EventInfo_RandomR... | uint32_t                 | AsDtype('>u4')\n",
      "CharmEventInfo_To... | float                    | AsDtype('>f4')\n",
      "CharmEventInfo_PV_X  | float                    | AsDtype('>f4')\n",
      "CharmEventInfo_PV_Y  | float                    | AsDtype('>f4')\n",
      "CharmEventInfo_PV_Z  | float                    | AsDtype('>f4')\n",
      "CharmEventInfo_be... | float                    | AsDtype('>f4')\n",
      "CharmEventInfo_be... | float                    | AsDtype('>f4')\n",
      "CharmEventInfo_be... | float                    | AsDtype('>f4')\n",
      "CharmEventInfo_be... | float                    | AsDtype('>f4')\n",
      "CharmEventInfo_be... | float                    | AsDtype('>f4')\n",
      "CharmEventInfo_be... | float                    | AsDtype('>f4')\n",
      "DMesons_pt           | std::vector<float>       | AsJagged(AsDtype('>f4'), he...\n",
      "DMesons_m            | std::vector<float>       | AsJagged(AsDtype('>f4'), he...\n",
      "DMesons_eta          | std::vector<float>       | AsJagged(AsDtype('>f4'), he...\n",
      "DMesons_phi          | std::vector<float>       | AsJagged(AsDtype('>f4'), he...\n",
      "DMesons_pdgId        | std::vector<int32_t>     | AsJagged(AsDtype('>i4'), he...\n",
      "DMesons_ptcone40     | std::vector<float>       | AsJagged(AsDtype('>f4'), he...\n",
      "DMesons_D0Index      | std::vector<int32_t>     | AsJagged(AsDtype('>i4'), he...\n",
      "DMesons_DeltaMass    | std::vector<float>       | AsJagged(AsDtype('>f4'), he...\n",
      "DMesons_SlowPionD0   | std::vector<float>       | AsJagged(AsDtype('>f4'), he...\n",
      "DMesons_SlowPionZ... | std::vector<float>       | AsJagged(AsDtype('>f4'), he...\n",
      "DMesons_decayType    | std::vector<int32_t>     | AsJagged(AsDtype('>i4'), he...\n",
      "DMesons_truthBarcode | std::vector<int32_t>     | AsJagged(AsDtype('>i4'), he...\n",
      "DMesons_fitOutput... | std::vector<float>       | AsJagged(AsDtype('>f4'), he...\n",
      "DMesons_fitOutput... | std::vector<float>       | AsJagged(AsDtype('>f4'), he...\n",
      "DMesons_fitOutput... | std::vector<float>       | AsJagged(AsDtype('>f4'), he...\n",
      "DMesons_fitOutput... | std::vector<float>       | AsJagged(AsDtype('>f4'), he...\n",
      "DMesons_fitOutput... | std::vector<float>       | AsJagged(AsDtype('>f4'), he...\n",
      "DMesons_fitOutput... | std::vector<float>       | AsJagged(AsDtype('>f4'), he...\n",
      "DMesons_fitOutput... | std::vector<float>       | AsJagged(AsDtype('>f4'), he...\n",
      "DMesons_fitOutput... | std::vector<int32_t>     | AsJagged(AsDtype('>i4'), he...\n",
      "DMesons_fitOutput... | std::vector<float>       | AsJagged(AsDtype('>f4'), he...\n",
      "DMesons_fitOutput... | std::vector<float>       | AsJagged(AsDtype('>f4'), he...\n",
      "DMesons_fitOutput... | std::vector<float>       | AsJagged(AsDtype('>f4'), he...\n",
      "DMesons_costhetastar | std::vector<float>       | AsJagged(AsDtype('>f4'), he...\n",
      "DMesons_mKpi1        | std::vector<float>       | AsJagged(AsDtype('>f4'), he...\n",
      "DMesons_mKpi2        | std::vector<float>       | AsJagged(AsDtype('>f4'), he...\n",
      "DMesons_mPhi1        | std::vector<float>       | AsJagged(AsDtype('>f4'), he...\n",
      "DMesons_mPhi2        | std::vector<float>       | AsJagged(AsDtype('>f4'), he...\n",
      "DMesons_mKpipi       | std::vector<float>       | AsJagged(AsDtype('>f4'), he...\n",
      "DMesons_daughterI... | std::vector<std::vect... | AsObjects(AsVector(True, As...\n",
      "DMesons_daughterI... | std::vector<std::vect... | AsObjects(AsVector(True, As...\n",
      "DMesons_daughterI... | std::vector<std::vect... | AsObjects(AsVector(True, As...\n",
      "DMesons_daughterI... | std::vector<std::vect... | AsObjects(AsVector(True, As...\n",
      "DMesons_daughterI... | std::vector<std::vect... | AsObjects(AsVector(True, As...\n",
      "DMesons_daughterI... | std::vector<std::vect... | AsObjects(AsVector(True, As...\n",
      "DMesons_daughterI... | std::vector<std::vect... | AsObjects(AsVector(True, As...\n",
      "DMesons_daughterI... | std::vector<std::vect... | AsObjects(AsVector(True, As...\n",
      "DMesons_daughterI... | std::vector<std::vect... | AsObjects(AsVector(True, As...\n",
      "DMesons_daughterI... | std::vector<std::vect... | AsObjects(AsVector(True, As...\n",
      "DMesons_daughterI... | std::vector<std::vect... | AsObjects(AsVector(True, As...\n",
      "DMesons_daughterI... | std::vector<std::vect... | AsObjects(AsVector(True, As...\n",
      "DMesons_fitOutput... | std::vector<std::vect... | AsObjects(AsVector(True, As...\n",
      "DMesons_vee_pt       | std::vector<float>       | AsJagged(AsDtype('>f4'), he...\n",
      "DMesons_vee_m        | std::vector<float>       | AsJagged(AsDtype('>f4'), he...\n",
      "DMesons_vee_eta      | std::vector<float>       | AsJagged(AsDtype('>f4'), he...\n",
      "DMesons_vee_phi      | std::vector<float>       | AsJagged(AsDtype('>f4'), he...\n",
      "DMesons_vee_pdgId    | std::vector<int32_t>     | AsJagged(AsDtype('>i4'), he...\n",
      "DMesons_vee_ptcone40 | std::vector<float>       | AsJagged(AsDtype('>f4'), he...\n",
      "DMesons_vee_D0Index  | std::vector<int32_t>     | AsJagged(AsDtype('>i4'), he...\n",
      "DMesons_vee_Delta... | std::vector<float>       | AsJagged(AsDtype('>f4'), he...\n",
      "DMesons_vee_SlowP... | std::vector<float>       | AsJagged(AsDtype('>f4'), he...\n",
      "DMesons_vee_SlowP... | std::vector<float>       | AsJagged(AsDtype('>f4'), he...\n",
      "DMesons_vee_decay... | std::vector<int32_t>     | AsJagged(AsDtype('>i4'), he...\n",
      "DMesons_vee_truth... | std::vector<int32_t>     | AsJagged(AsDtype('>i4'), he...\n",
      "DMesons_vee_fitOu... | std::vector<float>       | AsJagged(AsDtype('>f4'), he...\n",
      "DMesons_vee_fitOu... | std::vector<float>       | AsJagged(AsDtype('>f4'), he...\n",
      "DMesons_vee_fitOu... | std::vector<float>       | AsJagged(AsDtype('>f4'), he...\n",
      "DMesons_vee_fitOu... | std::vector<float>       | AsJagged(AsDtype('>f4'), he...\n",
      "DMesons_vee_fitOu... | std::vector<float>       | AsJagged(AsDtype('>f4'), he...\n",
      "DMesons_vee_fitOu... | std::vector<float>       | AsJagged(AsDtype('>f4'), he...\n",
      "DMesons_vee_fitOu... | std::vector<float>       | AsJagged(AsDtype('>f4'), he...\n",
      "DMesons_vee_fitOu... | std::vector<int32_t>     | AsJagged(AsDtype('>i4'), he...\n",
      "DMesons_vee_fitOu... | std::vector<float>       | AsJagged(AsDtype('>f4'), he...\n",
      "DMesons_vee_fitOu... | std::vector<float>       | AsJagged(AsDtype('>f4'), he...\n",
      "DMesons_vee_fitOu... | std::vector<float>       | AsJagged(AsDtype('>f4'), he...\n",
      "DMesons_vee_costh... | std::vector<float>       | AsJagged(AsDtype('>f4'), he...\n",
      "DMesons_vee_mKpi1    | std::vector<float>       | AsJagged(AsDtype('>f4'), he...\n",
      "DMesons_vee_mKpi2    | std::vector<float>       | AsJagged(AsDtype('>f4'), he...\n",
      "DMesons_vee_mPhi1    | std::vector<float>       | AsJagged(AsDtype('>f4'), he...\n",
      "DMesons_vee_mPhi2    | std::vector<float>       | AsJagged(AsDtype('>f4'), he...\n",
      "DMesons_vee_mKpipi   | std::vector<float>       | AsJagged(AsDtype('>f4'), he...\n",
      "DMesons_vee_daugh... | std::vector<std::vect... | AsObjects(AsVector(True, As...\n",
      "DMesons_vee_daugh... | std::vector<std::vect... | AsObjects(AsVector(True, As...\n",
      "DMesons_vee_daugh... | std::vector<std::vect... | AsObjects(AsVector(True, As...\n",
      "DMesons_vee_daugh... | std::vector<std::vect... | AsObjects(AsVector(True, As...\n",
      "DMesons_vee_daugh... | std::vector<std::vect... | AsObjects(AsVector(True, As...\n",
      "DMesons_vee_daugh... | std::vector<std::vect... | AsObjects(AsVector(True, As...\n",
      "DMesons_vee_daugh... | std::vector<std::vect... | AsObjects(AsVector(True, As...\n",
      "DMesons_vee_daugh... | std::vector<std::vect... | AsObjects(AsVector(True, As...\n",
      "DMesons_vee_daugh... | std::vector<std::vect... | AsObjects(AsVector(True, As...\n",
      "DMesons_vee_daugh... | std::vector<std::vect... | AsObjects(AsVector(True, As...\n",
      "DMesons_vee_daugh... | std::vector<std::vect... | AsObjects(AsVector(True, As...\n",
      "DMesons_vee_daugh... | std::vector<std::vect... | AsObjects(AsVector(True, As...\n",
      "DMesons_vee_fitOu... | std::vector<std::vect... | AsObjects(AsVector(True, As...\n",
      "DMesons_vee_V0Index  | std::vector<int32_t>     | AsJagged(AsDtype('>i4'), he...\n",
      "V0Candidates_Ksho... | std::vector<float>       | AsJagged(AsDtype('>f4'), he...\n",
      "V0Candidates_Ksho... | std::vector<float>       | AsJagged(AsDtype('>f4'), he...\n",
      "V0Candidates_Lamb... | std::vector<float>       | AsJagged(AsDtype('>f4'), he...\n",
      "V0Candidates_Lamb... | std::vector<float>       | AsJagged(AsDtype('>f4'), he...\n",
      "V0Candidates_Lamb... | std::vector<float>       | AsJagged(AsDtype('>f4'), he...\n",
      "V0Candidates_Lamb... | std::vector<float>       | AsJagged(AsDtype('>f4'), he...\n",
      "V0Candidates_pT      | std::vector<float>       | AsJagged(AsDtype('>f4'), he...\n",
      "V0Candidates_pTError | std::vector<float>       | AsJagged(AsDtype('>f4'), he...\n",
      "V0Candidates_Rxy     | std::vector<float>       | AsJagged(AsDtype('>f4'), he...\n",
      "V0Candidates_RxyE... | std::vector<float>       | AsJagged(AsDtype('>f4'), he...\n",
      "V0Candidates_px      | std::vector<float>       | AsJagged(AsDtype('>f4'), he...\n",
      "V0Candidates_py      | std::vector<float>       | AsJagged(AsDtype('>f4'), he...\n",
      "V0Candidates_pz      | std::vector<float>       | AsJagged(AsDtype('>f4'), he...\n",
      "V0LambdaVertices_... | std::vector<float>       | AsJagged(AsDtype('>f4'), he...\n",
      "V0LambdaVertices_pT  | std::vector<float>       | AsJagged(AsDtype('>f4'), he...\n",
      "V0LambdaVertices_... | std::vector<float>       | AsJagged(AsDtype('>f4'), he...\n",
      "V0LambdaVertices_Rxy | std::vector<float>       | AsJagged(AsDtype('>f4'), he...\n",
      "V0LambdaVertices_... | std::vector<float>       | AsJagged(AsDtype('>f4'), he...\n",
      "V0LambdaVertices_px  | std::vector<float>       | AsJagged(AsDtype('>f4'), he...\n",
      "V0LambdaVertices_py  | std::vector<float>       | AsJagged(AsDtype('>f4'), he...\n",
      "V0LambdaVertices_pz  | std::vector<float>       | AsJagged(AsDtype('>f4'), he...\n",
      "V0LambdabarVertic... | std::vector<float>       | AsJagged(AsDtype('>f4'), he...\n",
      "V0LambdabarVertic... | std::vector<float>       | AsJagged(AsDtype('>f4'), he...\n",
      "V0LambdabarVertic... | std::vector<float>       | AsJagged(AsDtype('>f4'), he...\n",
      "V0LambdabarVertic... | std::vector<float>       | AsJagged(AsDtype('>f4'), he...\n",
      "V0LambdabarVertic... | std::vector<float>       | AsJagged(AsDtype('>f4'), he...\n",
      "V0LambdabarVertic... | std::vector<float>       | AsJagged(AsDtype('>f4'), he...\n",
      "V0LambdabarVertic... | std::vector<float>       | AsJagged(AsDtype('>f4'), he...\n",
      "V0LambdabarVertic... | std::vector<float>       | AsJagged(AsDtype('>f4'), he...\n",
      "V0KshortVertices_... | std::vector<float>       | AsJagged(AsDtype('>f4'), he...\n",
      "V0KshortVertices_pT  | std::vector<float>       | AsJagged(AsDtype('>f4'), he...\n",
      "V0KshortVertices_... | std::vector<float>       | AsJagged(AsDtype('>f4'), he...\n",
      "V0KshortVertices_Rxy | std::vector<float>       | AsJagged(AsDtype('>f4'), he...\n",
      "V0KshortVertices_... | std::vector<float>       | AsJagged(AsDtype('>f4'), he...\n",
      "V0KshortVertices_px  | std::vector<float>       | AsJagged(AsDtype('>f4'), he...\n",
      "V0KshortVertices_py  | std::vector<float>       | AsJagged(AsDtype('>f4'), he...\n",
      "V0KshortVertices_pz  | std::vector<float>       | AsJagged(AsDtype('>f4'), he...\n",
      "TruthParticles_Se... | std::vector<float>       | AsJagged(AsDtype('>f4'), he...\n",
      "TruthParticles_Se... | std::vector<float>       | AsJagged(AsDtype('>f4'), he...\n",
      "TruthParticles_Se... | std::vector<float>       | AsJagged(AsDtype('>f4'), he...\n",
      "TruthParticles_Se... | std::vector<float>       | AsJagged(AsDtype('>f4'), he...\n",
      "TruthParticles_Se... | std::vector<int32_t>     | AsJagged(AsDtype('>i4'), he...\n",
      "TruthParticles_Se... | std::vector<int32_t>     | AsJagged(AsDtype('>i4'), he...\n",
      "TruthParticles_Se... | std::vector<int32_t>     | AsJagged(AsDtype('>i4'), he...\n",
      "TruthParticles_Se... | std::vector<std::vect... | AsObjects(AsVector(True, As...\n",
      "TruthParticles_Se... | std::vector<float>       | AsJagged(AsDtype('>f4'), he...\n",
      "TruthParticles_Se... | std::vector<float>       | AsJagged(AsDtype('>f4'), he...\n",
      "TruthParticles_Se... | std::vector<float>       | AsJagged(AsDtype('>f4'), he...\n",
      "TruthParticles_Se... | std::vector<int32_t>     | AsJagged(AsDtype('>i4'), he...\n",
      "TruthParticles_Se... | std::vector<int8_t>      | AsJagged(AsDtype('int8'), h...\n",
      "TruthParticles_Se... | std::vector<std::vect... | AsObjects(AsVector(True, As...\n",
      "TruthParticles_Se... | std::vector<std::vect... | AsObjects(AsVector(True, As...\n",
      "TruthParticles_Se... | std::vector<std::vect... | AsObjects(AsVector(True, As...\n",
      "TruthParticles_Se... | std::vector<std::vect... | AsObjects(AsVector(True, As...\n",
      "TruthParticles_Se... | std::vector<std::vect... | AsObjects(AsVector(True, As...\n",
      "TruthLeptons_pt      | std::vector<float>       | AsJagged(AsDtype('>f4'), he...\n",
      "TruthLeptons_m       | std::vector<float>       | AsJagged(AsDtype('>f4'), he...\n",
      "TruthLeptons_e       | std::vector<float>       | AsJagged(AsDtype('>f4'), he...\n",
      "TruthLeptons_eta     | std::vector<float>       | AsJagged(AsDtype('>f4'), he...\n",
      "TruthLeptons_phi     | std::vector<float>       | AsJagged(AsDtype('>f4'), he...\n",
      "TruthLeptons_barcode | std::vector<int32_t>     | AsJagged(AsDtype('>i4'), he...\n",
      "TruthLeptons_pdgId   | std::vector<int32_t>     | AsJagged(AsDtype('>i4'), he...\n",
      "TruthLeptons_status  | std::vector<int32_t>     | AsJagged(AsDtype('>i4'), he...\n",
      "TruthLeptons_clas... | std::vector<uint32_t>    | AsJagged(AsDtype('>u4'), he...\n",
      "TruthLeptons_clas... | std::vector<uint32_t>    | AsJagged(AsDtype('>u4'), he...\n",
      "TruthLeptons_e_dr... | std::vector<float>       | AsJagged(AsDtype('>f4'), he...\n",
      "TruthLeptons_eta_... | std::vector<float>       | AsJagged(AsDtype('>f4'), he...\n",
      "TruthLeptons_phi_... | std::vector<float>       | AsJagged(AsDtype('>f4'), he...\n",
      "TruthLeptons_pt_d... | std::vector<float>       | AsJagged(AsDtype('>f4'), he...\n"
     ]
    }
   ],
   "source": [
    "DplusTree.show()"
   ]
  },
  {
   "cell_type": "code",
   "execution_count": 52,
   "id": "17b67932-41b7-4a8c-a6df-c01045165622",
   "metadata": {},
   "outputs": [
    {
     "name": "stdout",
     "output_type": "stream",
     "text": [
      "Keys:  ['DMesons_pt', 'DMesons_m', 'DMesons_eta', 'DMesons_phi']\n",
      "List of Key Files:  ['cutflow;1', 'track_cflow;1', 'tight_track_cflow;1', 'CharmAnalysis;1']\n"
     ]
    }
   ],
   "source": [
    "key_list = []\n",
    "\n",
    "#DMesons_pt, eta, phi\n",
    "for i in range(12, 16):\n",
    "    key_list.append(file1[\"CharmAnalysis;1\"].keys()[i])\n",
    "    \n",
    "# #DMesons_daughterInfo__pt, eta, phi\n",
    "# for i in range(46, 49):\n",
    "#     key_list.append(file[\"CharmAnalysis;1\"].keys()[i])\n",
    "\n",
    "print(\"Keys: \", key_list)\n",
    "print(\"List of Key Files: \", file.keys())"
   ]
  },
  {
   "cell_type": "code",
   "execution_count": 54,
   "id": "bfc26c47-ed4f-41e7-a492-d828a6d13f56",
   "metadata": {},
   "outputs": [
    {
     "data": {
      "text/html": [
       "<div>\n",
       "<style scoped>\n",
       "    .dataframe tbody tr th:only-of-type {\n",
       "        vertical-align: middle;\n",
       "    }\n",
       "\n",
       "    .dataframe tbody tr th {\n",
       "        vertical-align: top;\n",
       "    }\n",
       "\n",
       "    .dataframe thead th {\n",
       "        text-align: right;\n",
       "    }\n",
       "</style>\n",
       "<table border=\"1\" class=\"dataframe\">\n",
       "  <thead>\n",
       "    <tr style=\"text-align: right;\">\n",
       "      <th></th>\n",
       "      <th>DMesons_pt</th>\n",
       "      <th>DMesons_m</th>\n",
       "      <th>DMesons_eta</th>\n",
       "      <th>DMesons_phi</th>\n",
       "    </tr>\n",
       "  </thead>\n",
       "  <tbody>\n",
       "    <tr>\n",
       "      <th>0</th>\n",
       "      <td>[5735.7485, 5735.7485]</td>\n",
       "      <td>[1860.0809, 2207.8083]</td>\n",
       "      <td>[0.9682132, 0.9682132]</td>\n",
       "      <td>[1.2285283, 1.2285283]</td>\n",
       "    </tr>\n",
       "    <tr>\n",
       "      <th>1</th>\n",
       "      <td>[10047.125]</td>\n",
       "      <td>[1862.4176]</td>\n",
       "      <td>[0.08182407]</td>\n",
       "      <td>[2.7096815]</td>\n",
       "    </tr>\n",
       "    <tr>\n",
       "      <th>2</th>\n",
       "      <td>[18993.742, 18993.742]</td>\n",
       "      <td>[1853.9062, 2398.887]</td>\n",
       "      <td>[-1.6619627, -1.6619627]</td>\n",
       "      <td>[-0.4605118, -0.4605118]</td>\n",
       "    </tr>\n",
       "    <tr>\n",
       "      <th>3</th>\n",
       "      <td>[]</td>\n",
       "      <td>[]</td>\n",
       "      <td>[]</td>\n",
       "      <td>[]</td>\n",
       "    </tr>\n",
       "    <tr>\n",
       "      <th>4</th>\n",
       "      <td>[]</td>\n",
       "      <td>[]</td>\n",
       "      <td>[]</td>\n",
       "      <td>[]</td>\n",
       "    </tr>\n",
       "    <tr>\n",
       "      <th>...</th>\n",
       "      <td>...</td>\n",
       "      <td>...</td>\n",
       "      <td>...</td>\n",
       "      <td>...</td>\n",
       "    </tr>\n",
       "    <tr>\n",
       "      <th>19999995</th>\n",
       "      <td>[]</td>\n",
       "      <td>[]</td>\n",
       "      <td>[]</td>\n",
       "      <td>[]</td>\n",
       "    </tr>\n",
       "    <tr>\n",
       "      <th>19999996</th>\n",
       "      <td>[14818.177, 14818.177]</td>\n",
       "      <td>[1836.0997, 2165.724]</td>\n",
       "      <td>[-2.1479332, -2.1479332]</td>\n",
       "      <td>[0.47699, 0.47699]</td>\n",
       "    </tr>\n",
       "    <tr>\n",
       "      <th>19999997</th>\n",
       "      <td>[]</td>\n",
       "      <td>[]</td>\n",
       "      <td>[]</td>\n",
       "      <td>[]</td>\n",
       "    </tr>\n",
       "    <tr>\n",
       "      <th>19999998</th>\n",
       "      <td>[39381.43]</td>\n",
       "      <td>[2210.8667]</td>\n",
       "      <td>[1.5503558]</td>\n",
       "      <td>[2.7627664]</td>\n",
       "    </tr>\n",
       "    <tr>\n",
       "      <th>19999999</th>\n",
       "      <td>[11423.04, 11423.04]</td>\n",
       "      <td>[1854.3158, 2423.5457]</td>\n",
       "      <td>[-0.48572376, -0.48572376]</td>\n",
       "      <td>[2.4514961, 2.4514961]</td>\n",
       "    </tr>\n",
       "  </tbody>\n",
       "</table>\n",
       "<p>20000000 rows × 4 columns</p>\n",
       "</div>"
      ],
      "text/plain": [
       "                      DMesons_pt               DMesons_m  \\\n",
       "0         [5735.7485, 5735.7485]  [1860.0809, 2207.8083]   \n",
       "1                    [10047.125]             [1862.4176]   \n",
       "2         [18993.742, 18993.742]   [1853.9062, 2398.887]   \n",
       "3                             []                      []   \n",
       "4                             []                      []   \n",
       "...                          ...                     ...   \n",
       "19999995                      []                      []   \n",
       "19999996  [14818.177, 14818.177]   [1836.0997, 2165.724]   \n",
       "19999997                      []                      []   \n",
       "19999998              [39381.43]             [2210.8667]   \n",
       "19999999    [11423.04, 11423.04]  [1854.3158, 2423.5457]   \n",
       "\n",
       "                         DMesons_eta               DMesons_phi  \n",
       "0             [0.9682132, 0.9682132]    [1.2285283, 1.2285283]  \n",
       "1                       [0.08182407]               [2.7096815]  \n",
       "2           [-1.6619627, -1.6619627]  [-0.4605118, -0.4605118]  \n",
       "3                                 []                        []  \n",
       "4                                 []                        []  \n",
       "...                              ...                       ...  \n",
       "19999995                          []                        []  \n",
       "19999996    [-2.1479332, -2.1479332]        [0.47699, 0.47699]  \n",
       "19999997                          []                        []  \n",
       "19999998                 [1.5503558]               [2.7627664]  \n",
       "19999999  [-0.48572376, -0.48572376]    [2.4514961, 2.4514961]  \n",
       "\n",
       "[20000000 rows x 4 columns]"
      ]
     },
     "execution_count": 54,
     "metadata": {},
     "output_type": "execute_result"
    }
   ],
   "source": [
    "data = {}\n",
    "for key in key_list:\n",
    "    data[key] = tree[key].array(library=\"np\")\n",
    "    \n",
    "df = pd.DataFrame(data)\n",
    "\n",
    "df"
   ]
  },
  {
   "cell_type": "code",
   "execution_count": 59,
   "id": "7c62b27f-2fb1-40e4-99ca-515ad1ae56da",
   "metadata": {},
   "outputs": [
    {
     "data": {
      "image/png": "[encoded data removed]",
      "text/plain": [
       "<Figure size 432x288 with 1 Axes>"
      ]
     },
     "metadata": {
      "needs_background": "light"
     },
     "output_type": "display_data"
    }
   ],
   "source": [
    "DMesons_pt = []\n",
    "for pt in df['DMesons_pt']:\n",
    "    if pt.size > 0:\n",
    "        DMesons_pt.extend(pt)\n",
    "\n",
    "# Plot the histogram\n",
    "plt.hist(DMesons_pt, bins=50)\n",
    "plt.xlabel('DMeson Transverse Momentum (GeV/c)')\n",
    "plt.ylabel('Count')\n",
    "plt.title('Distribution of DMeson Transverse Momentum')\n",
    "plt.show()"
   ]
  },
  {
   "cell_type": "code",
   "execution_count": null,
   "id": "b9f368b5-f523-4472-a19e-86ec817f1922",
   "metadata": {},
   "outputs": [],
   "source": []
  }
 ],
 "metadata": {
  "kernelspec": {
   "display_name": "NERSC Python",
   "language": "python",
   "name": "python3"
  },
  "language_info": {
   "codemirror_mode": {
    "name": "ipython",
    "version": 3
   },
   "file_extension": ".py",
   "mimetype": "text/x-python",
   "name": "python",
   "nbconvert_exporter": "python",
   "pygments_lexer": "ipython3",
   "version": "3.9.7"
  }
 },
 "nbformat": 4,
 "nbformat_minor": 5
}
