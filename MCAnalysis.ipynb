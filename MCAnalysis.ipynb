{
 "cells": [
  {
   "cell_type": "markdown",
   "id": "aff90022-7057-4283-9712-28ca699f4e1d",
   "metadata": {},
   "source": [
    "MC simulated samples of lambda and D"
   ]
  },
  {
   "cell_type": "code",
   "execution_count": 112,
   "id": "05e01099-3202-46db-a67b-fc89a6069aff",
   "metadata": {},
   "outputs": [],
   "source": [
    "import uproot\n",
    "import numpy as np\n",
    "import pandas as pd\n",
    "import awkward as ak\n",
    "import os\n",
    "\n",
    "import matplotlib.pyplot as plt"
   ]
  },
  {
   "cell_type": "code",
   "execution_count": 22,
   "id": "58f86cd4-dadc-4a89-8668-37dfb125c82d",
   "metadata": {},
   "outputs": [
    {
     "name": "stdout",
     "output_type": "stream",
     "text": [
      "['CharmAnalysis.mc.ForcedDecay.Dplus.tree.root', 'CharmAnalysis.mc.ForcedDecay.LabmdaC.tree.root']\n"
     ]
    }
   ],
   "source": [
    "dir_path = \"/global/cfs/cdirs/atlas/gottino/Charm/Analysis/run_batch_gup/ntuples\"\n",
    "\n",
    "ntuples = os.listdir(dir_path)\n",
    "print(ntuples)"
   ]
  },
  {
   "cell_type": "code",
   "execution_count": 177,
   "id": "0db4dccf-b4af-4e4f-9f0f-35d58ba5c748",
   "metadata": {},
   "outputs": [],
   "source": [
    "#processes ntunples given directory: returns trees \n",
    "def process_ntuple(ntuples):\n",
    "    tree_list = []\n",
    "    for ntuple in ntuples:\n",
    "        file = uproot.open(dir_path + \"/\" + ntuple)\n",
    "        tree = file[\"CharmAnalysis;1\"]\n",
    "        tree_list.append(tree)\n",
    "    return tree_list\n",
    "\n",
    "#event #, list of branches, and batch size: returns tuple of branches with data\n",
    "def show(event, branches, batch_size):\n",
    "    current_event = 0\n",
    "    for array in process_ntuple(ntuples)[1].iterate(branches, step_size = batch_size, library = \"pd\"):\n",
    "        arrays = array[branches]\n",
    "        if current_event == event:\n",
    "            break\n",
    "        current_event+=1\n",
    "    return arrays\n"
   ]
  },
  {
   "cell_type": "code",
   "execution_count": 178,
   "id": "ee857ae0-769a-4e67-94c7-c1a460a26e7c",
   "metadata": {},
   "outputs": [
    {
     "data": {
      "text/plain": [
       "[<TTree 'CharmAnalysis' (166 branches) at 0x154f180fca00>,\n",
       " <TTree 'CharmAnalysis' (166 branches) at 0x154f0dea5940>]"
      ]
     },
     "execution_count": 178,
     "metadata": {},
     "output_type": "execute_result"
    }
   ],
   "source": [
    "trees = process_ntuple(ntuples)\n",
    "trees"
   ]
  },
  {
   "cell_type": "code",
   "execution_count": 181,
   "id": "bb136256-8e4a-49fb-bcd9-6c163c1ff668",
   "metadata": {},
   "outputs": [
    {
     "data": {
      "text/html": [
       "<div>\n",
       "<style scoped>\n",
       "    .dataframe tbody tr th:only-of-type {\n",
       "        vertical-align: middle;\n",
       "    }\n",
       "\n",
       "    .dataframe tbody tr th {\n",
       "        vertical-align: top;\n",
       "    }\n",
       "\n",
       "    .dataframe thead th {\n",
       "        text-align: right;\n",
       "    }\n",
       "</style>\n",
       "<table border=\"1\" class=\"dataframe\">\n",
       "  <thead>\n",
       "    <tr style=\"text-align: right;\">\n",
       "      <th></th>\n",
       "      <th>DMesons_pt</th>\n",
       "      <th>DMesons_m</th>\n",
       "      <th>DMesons_eta</th>\n",
       "      <th>DMesons_phi</th>\n",
       "    </tr>\n",
       "  </thead>\n",
       "  <tbody>\n",
       "    <tr>\n",
       "      <th>0</th>\n",
       "      <td>[15837.3623046875, 15837.3623046875]</td>\n",
       "      <td>[2277.830078125, 2369.549072265625]</td>\n",
       "      <td>[-1.9853405952453613, -1.9853405952453613]</td>\n",
       "      <td>[-2.1627724170684814, -2.1627724170684814]</td>\n",
       "    </tr>\n",
       "    <tr>\n",
       "      <th>1</th>\n",
       "      <td>[]</td>\n",
       "      <td>[]</td>\n",
       "      <td>[]</td>\n",
       "      <td>[]</td>\n",
       "    </tr>\n",
       "    <tr>\n",
       "      <th>2</th>\n",
       "      <td>[]</td>\n",
       "      <td>[]</td>\n",
       "      <td>[]</td>\n",
       "      <td>[]</td>\n",
       "    </tr>\n",
       "    <tr>\n",
       "      <th>3</th>\n",
       "      <td>[98787.6796875, 98787.6796875]</td>\n",
       "      <td>[1919.40869140625, 2260.435791015625]</td>\n",
       "      <td>[-0.2930956184864044, -0.2930956184864044]</td>\n",
       "      <td>[-2.693368434906006, -2.693368434906006]</td>\n",
       "    </tr>\n",
       "    <tr>\n",
       "      <th>4</th>\n",
       "      <td>[]</td>\n",
       "      <td>[]</td>\n",
       "      <td>[]</td>\n",
       "      <td>[]</td>\n",
       "    </tr>\n",
       "    <tr>\n",
       "      <th>...</th>\n",
       "      <td>...</td>\n",
       "      <td>...</td>\n",
       "      <td>...</td>\n",
       "      <td>...</td>\n",
       "    </tr>\n",
       "    <tr>\n",
       "      <th>95</th>\n",
       "      <td>[22555.076171875, 22555.076171875]</td>\n",
       "      <td>[1984.99658203125, 2287.811279296875]</td>\n",
       "      <td>[0.752723217010498, 0.752723217010498]</td>\n",
       "      <td>[-0.010955027304589748, -0.010955027304589748]</td>\n",
       "    </tr>\n",
       "    <tr>\n",
       "      <th>96</th>\n",
       "      <td>[]</td>\n",
       "      <td>[]</td>\n",
       "      <td>[]</td>\n",
       "      <td>[]</td>\n",
       "    </tr>\n",
       "    <tr>\n",
       "      <th>97</th>\n",
       "      <td>[]</td>\n",
       "      <td>[]</td>\n",
       "      <td>[]</td>\n",
       "      <td>[]</td>\n",
       "    </tr>\n",
       "    <tr>\n",
       "      <th>98</th>\n",
       "      <td>[29804.958984375, 29804.958984375]</td>\n",
       "      <td>[1753.2430419921875, 2207.156982421875]</td>\n",
       "      <td>[0.38043972849845886, 0.38043972849845886]</td>\n",
       "      <td>[2.1277098655700684, 2.1277098655700684]</td>\n",
       "    </tr>\n",
       "    <tr>\n",
       "      <th>99</th>\n",
       "      <td>[]</td>\n",
       "      <td>[]</td>\n",
       "      <td>[]</td>\n",
       "      <td>[]</td>\n",
       "    </tr>\n",
       "  </tbody>\n",
       "</table>\n",
       "<p>100 rows × 4 columns</p>\n",
       "</div>"
      ],
      "text/plain": [
       "                              DMesons_pt  \\\n",
       "0   [15837.3623046875, 15837.3623046875]   \n",
       "1                                     []   \n",
       "2                                     []   \n",
       "3         [98787.6796875, 98787.6796875]   \n",
       "4                                     []   \n",
       "..                                   ...   \n",
       "95    [22555.076171875, 22555.076171875]   \n",
       "96                                    []   \n",
       "97                                    []   \n",
       "98    [29804.958984375, 29804.958984375]   \n",
       "99                                    []   \n",
       "\n",
       "                                  DMesons_m  \\\n",
       "0       [2277.830078125, 2369.549072265625]   \n",
       "1                                        []   \n",
       "2                                        []   \n",
       "3     [1919.40869140625, 2260.435791015625]   \n",
       "4                                        []   \n",
       "..                                      ...   \n",
       "95    [1984.99658203125, 2287.811279296875]   \n",
       "96                                       []   \n",
       "97                                       []   \n",
       "98  [1753.2430419921875, 2207.156982421875]   \n",
       "99                                       []   \n",
       "\n",
       "                                   DMesons_eta  \\\n",
       "0   [-1.9853405952453613, -1.9853405952453613]   \n",
       "1                                           []   \n",
       "2                                           []   \n",
       "3   [-0.2930956184864044, -0.2930956184864044]   \n",
       "4                                           []   \n",
       "..                                         ...   \n",
       "95      [0.752723217010498, 0.752723217010498]   \n",
       "96                                          []   \n",
       "97                                          []   \n",
       "98  [0.38043972849845886, 0.38043972849845886]   \n",
       "99                                          []   \n",
       "\n",
       "                                       DMesons_phi  \n",
       "0       [-2.1627724170684814, -2.1627724170684814]  \n",
       "1                                               []  \n",
       "2                                               []  \n",
       "3         [-2.693368434906006, -2.693368434906006]  \n",
       "4                                               []  \n",
       "..                                             ...  \n",
       "95  [-0.010955027304589748, -0.010955027304589748]  \n",
       "96                                              []  \n",
       "97                                              []  \n",
       "98        [2.1277098655700684, 2.1277098655700684]  \n",
       "99                                              []  \n",
       "\n",
       "[100 rows x 4 columns]"
      ]
     },
     "execution_count": 181,
     "metadata": {},
     "output_type": "execute_result"
    }
   ],
   "source": [
    "df = show(0, [\"DMesons_pt\", \"DMesons_m\", \"DMesons_eta\", \"DMesons_phi\"], 100)\n",
    "df"
   ]
  },
  {
   "cell_type": "code",
   "execution_count": 168,
   "id": "14f447ec-521d-481e-a4ed-04a420178a02",
   "metadata": {},
   "outputs": [
    {
     "data": {
      "text/html": [
       "<pre>[[5.74e+03, 5.74e+03],\n",
       " [1e+04],\n",
       " [1.9e+04, 1.9e+04],\n",
       " [],\n",
       " [],\n",
       " [],\n",
       " [1.01e+04, 1.01e+04],\n",
       " [1.26e+04, 1.26e+04],\n",
       " [],\n",
       " [3.61e+04],\n",
       " ...,\n",
       " [],\n",
       " [],\n",
       " [1.8e+04],\n",
       " [6.29e+04, 6.29e+04],\n",
       " [],\n",
       " [1.48e+04, 1.48e+04],\n",
       " [],\n",
       " [3.94e+04],\n",
       " [1.14e+04, 1.14e+04]]\n",
       "------------------------------\n",
       "type: 20000000 * var * float32</pre>"
      ],
      "text/plain": [
       "<Array [[5.74e+03, 5.74e+03], ..., [...]] type='20000000 * var * float32'>"
      ]
     },
     "execution_count": 168,
     "metadata": {},
     "output_type": "execute_result"
    }
   ],
   "source": [
    "DplusTree = trees[0]\n",
    "LambdaCTree = trees[1]\n",
    "\n",
    "DplusTree[\"DMesons_pt\"].array()"
   ]
  },
  {
   "cell_type": "code",
   "execution_count": 169,
   "id": "7c62b27f-2fb1-40e4-99ca-515ad1ae56da",
   "metadata": {},
   "outputs": [
    {
     "data": {
      "image/png": "[encoded data removed]",
      "text/plain": [
       "<Figure size 432x288 with 1 Axes>"
      ]
     },
     "metadata": {
      "needs_background": "light"
     },
     "output_type": "display_data"
    }
   ],
   "source": [
    "DMesons_pt = []\n",
    "for pt in df['DMesons_pt']:\n",
    "    DMesons_pt.extend(pt)\n",
    "\n",
    "# Plot the histogram\n",
    "plt.hist(DMesons_pt, bins=50)\n",
    "plt.xlabel('DMeson Transverse Momentum (GeV/c)')\n",
    "plt.ylabel('Count')\n",
    "plt.title('Distribution of DMeson Transverse Momentum')\n",
    "plt.show()"
   ]
  },
  {
   "cell_type": "code",
   "execution_count": 164,
   "id": "b9f368b5-f523-4472-a19e-86ec817f1922",
   "metadata": {},
   "outputs": [
    {
     "name": "stdout",
     "output_type": "stream",
     "text": [
      "1000\n"
     ]
    }
   ],
   "source": [
    "print(len(df[\"DMesons_pt\"]))"
   ]
  },
  {
   "cell_type": "code",
   "execution_count": null,
   "id": "d6b90d40-9156-4749-bff8-9aeeededc5ce",
   "metadata": {},
   "outputs": [],
   "source": []
  }
 ],
 "metadata": {
  "kernelspec": {
   "display_name": "NERSC Python",
   "language": "python",
   "name": "python3"
  },
  "language_info": {
   "codemirror_mode": {
    "name": "ipython",
    "version": 3
   },
   "file_extension": ".py",
   "mimetype": "text/x-python",
   "name": "python",
   "nbconvert_exporter": "python",
   "pygments_lexer": "ipython3",
   "version": "3.9.7"
  }
 },
 "nbformat": 4,
 "nbformat_minor": 5
}
