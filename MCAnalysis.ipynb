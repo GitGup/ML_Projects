{
 "cells": [
  {
   "cell_type": "markdown",
   "id": "aff90022-7057-4283-9712-28ca699f4e1d",
   "metadata": {},
   "source": [
    "MC simulated samples of $\\Lambda_c^{+}$ and $D^+$"
   ]
  },
  {
   "cell_type": "code",
   "execution_count": 112,
   "id": "05e01099-3202-46db-a67b-fc89a6069aff",
   "metadata": {},
   "outputs": [],
   "source": [
    "import uproot\n",
    "import numpy as np\n",
    "import pandas as pd\n",
    "import awkward as ak\n",
    "import os\n",
    "\n",
    "import matplotlib.pyplot as plt"
   ]
  },
  {
   "cell_type": "code",
   "execution_count": 274,
   "id": "58f86cd4-dadc-4a89-8668-37dfb125c82d",
   "metadata": {},
   "outputs": [
    {
     "name": "stdout",
     "output_type": "stream",
     "text": [
      "['CharmAnalysis.mc.ForcedDecay.Dplus.tree.root', 'CharmAnalysis.mc.ForcedDecay.LabmdaC.tree.root']\n"
     ]
    }
   ],
   "source": [
    "dir_path = \"/global/cfs/cdirs/atlas/gottino/Charm/Analysis/run_batch_gup/ntuples\"\n",
    "\n",
    "files = os.listdir(dir_path)\n",
    "Dplus, LambdaC = ntuples\n",
    "\n",
    "print(ntuples)"
   ]
  },
  {
   "cell_type": "code",
   "execution_count": 313,
   "id": "0db4dccf-b4af-4e4f-9f0f-35d58ba5c748",
   "metadata": {},
   "outputs": [],
   "source": [
    "#processes ntunples given directory: returns trees \n",
    "def process_ntuple(ntuple):\n",
    "    file = uproot.open(dir_path + \"/\" + ntuple)\n",
    "    tree = file[\"CharmAnalysis;1\"]\n",
    "    return tree\n",
    "\n",
    "#takes event #, list of branches, and batch size: returns tuple of branches with data\n",
    "def show(event, TTree, branches, batch_size):\n",
    "    #if we want the entire data set set batch size = 0\n",
    "    if batch_size == 0:\n",
    "        batch_size = TTree.num_entries\n",
    "\n",
    "    #iterates through TTree as generator functiona and yields batches of data\n",
    "    current_event = 0\n",
    "    for array in TTree.iterate(branches, step_size = batch_size, library = \"pd\"):\n",
    "        arrays = array[branches]\n",
    "        if current_event == event:\n",
    "            break\n",
    "        current_event+=1\n",
    "    return arrays\n"
   ]
  },
  {
   "cell_type": "code",
   "execution_count": 319,
   "id": "ee857ae0-769a-4e67-94c7-c1a460a26e7c",
   "metadata": {},
   "outputs": [
    {
     "data": {
      "text/plain": [
       "'CharmAnalysis'"
      ]
     },
     "execution_count": 319,
     "metadata": {},
     "output_type": "execute_result"
    }
   ],
   "source": [
    "TTree = process_ntuple(ntuples[0])\n",
    "TTree.name"
   ]
  },
  {
   "cell_type": "code",
   "execution_count": 316,
   "id": "bb136256-8e4a-49fb-bcd9-6c163c1ff668",
   "metadata": {},
   "outputs": [
    {
     "data": {
      "text/html": [
       "<div>\n",
       "<style scoped>\n",
       "    .dataframe tbody tr th:only-of-type {\n",
       "        vertical-align: middle;\n",
       "    }\n",
       "\n",
       "    .dataframe tbody tr th {\n",
       "        vertical-align: top;\n",
       "    }\n",
       "\n",
       "    .dataframe thead th {\n",
       "        text-align: right;\n",
       "    }\n",
       "</style>\n",
       "<table border=\"1\" class=\"dataframe\">\n",
       "  <thead>\n",
       "    <tr style=\"text-align: right;\">\n",
       "      <th></th>\n",
       "      <th>DMesons_pt</th>\n",
       "      <th>DMesons_m</th>\n",
       "      <th>DMesons_eta</th>\n",
       "      <th>DMesons_phi</th>\n",
       "    </tr>\n",
       "  </thead>\n",
       "  <tbody>\n",
       "    <tr>\n",
       "      <th>0</th>\n",
       "      <td>[5735.74853515625, 5735.74853515625]</td>\n",
       "      <td>[1860.0809326171875, 2207.808349609375]</td>\n",
       "      <td>[0.9682132005691528, 0.9682132005691528]</td>\n",
       "      <td>[1.2285282611846924, 1.2285282611846924]</td>\n",
       "    </tr>\n",
       "    <tr>\n",
       "      <th>1</th>\n",
       "      <td>[10047.125]</td>\n",
       "      <td>[1862.4176025390625]</td>\n",
       "      <td>[0.08182407170534134]</td>\n",
       "      <td>[2.709681510925293]</td>\n",
       "    </tr>\n",
       "    <tr>\n",
       "      <th>2</th>\n",
       "      <td>[18993.7421875, 18993.7421875]</td>\n",
       "      <td>[1853.90625, 2398.886962890625]</td>\n",
       "      <td>[-1.6619627475738525, -1.6619627475738525]</td>\n",
       "      <td>[-0.46051180362701416, -0.46051180362701416]</td>\n",
       "    </tr>\n",
       "    <tr>\n",
       "      <th>3</th>\n",
       "      <td>[10118.494140625, 10118.494140625]</td>\n",
       "      <td>[1874.203125, 2468.1806640625]</td>\n",
       "      <td>[0.041659336537122726, 0.041659336537122726]</td>\n",
       "      <td>[0.780849277973175, 0.780849277973175]</td>\n",
       "    </tr>\n",
       "    <tr>\n",
       "      <th>4</th>\n",
       "      <td>[12579.470703125, 12579.470703125]</td>\n",
       "      <td>[1884.987060546875, 2220.384521484375]</td>\n",
       "      <td>[-1.1025604009628296, -1.1025604009628296]</td>\n",
       "      <td>[0.7788794040679932, 0.7788794040679932]</td>\n",
       "    </tr>\n",
       "    <tr>\n",
       "      <th>...</th>\n",
       "      <td>...</td>\n",
       "      <td>...</td>\n",
       "      <td>...</td>\n",
       "      <td>...</td>\n",
       "    </tr>\n",
       "    <tr>\n",
       "      <th>556</th>\n",
       "      <td>[5451.50732421875, 5451.50732421875]</td>\n",
       "      <td>[1849.396240234375, 2459.749755859375]</td>\n",
       "      <td>[-0.064152292907238, -0.064152292907238]</td>\n",
       "      <td>[2.395824909210205, 2.395824909210205]</td>\n",
       "    </tr>\n",
       "    <tr>\n",
       "      <th>557</th>\n",
       "      <td>[30662.75, 30662.75, 30662.75]</td>\n",
       "      <td>[1872.678955078125, 2392.157470703125, 2270.92...</td>\n",
       "      <td>[1.7234350442886353, 1.7234350442886353, 1.723...</td>\n",
       "      <td>[-0.5089108347892761, -0.5089108347892761, -0....</td>\n",
       "    </tr>\n",
       "    <tr>\n",
       "      <th>558</th>\n",
       "      <td>[11592.576171875, 11592.576171875]</td>\n",
       "      <td>[1850.5804443359375, 2294.733642578125]</td>\n",
       "      <td>[-0.22858543694019318, -0.22858543694019318]</td>\n",
       "      <td>[0.2433209866285324, 0.2433209866285324]</td>\n",
       "    </tr>\n",
       "    <tr>\n",
       "      <th>559</th>\n",
       "      <td>[9751.6259765625]</td>\n",
       "      <td>[2263.62890625]</td>\n",
       "      <td>[-0.15377356112003326]</td>\n",
       "      <td>[-1.8734217882156372]</td>\n",
       "    </tr>\n",
       "    <tr>\n",
       "      <th>560</th>\n",
       "      <td>[23302.40625, 23302.40625]</td>\n",
       "      <td>[1910.8150634765625, 2211.935546875]</td>\n",
       "      <td>[1.089045524597168, 1.089045524597168]</td>\n",
       "      <td>[-2.7747840881347656, -2.7747840881347656]</td>\n",
       "    </tr>\n",
       "  </tbody>\n",
       "</table>\n",
       "<p>561 rows × 4 columns</p>\n",
       "</div>"
      ],
      "text/plain": [
       "                               DMesons_pt  \\\n",
       "0    [5735.74853515625, 5735.74853515625]   \n",
       "1                             [10047.125]   \n",
       "2          [18993.7421875, 18993.7421875]   \n",
       "3      [10118.494140625, 10118.494140625]   \n",
       "4      [12579.470703125, 12579.470703125]   \n",
       "..                                    ...   \n",
       "556  [5451.50732421875, 5451.50732421875]   \n",
       "557        [30662.75, 30662.75, 30662.75]   \n",
       "558    [11592.576171875, 11592.576171875]   \n",
       "559                     [9751.6259765625]   \n",
       "560            [23302.40625, 23302.40625]   \n",
       "\n",
       "                                             DMesons_m  \\\n",
       "0              [1860.0809326171875, 2207.808349609375]   \n",
       "1                                 [1862.4176025390625]   \n",
       "2                      [1853.90625, 2398.886962890625]   \n",
       "3                       [1874.203125, 2468.1806640625]   \n",
       "4               [1884.987060546875, 2220.384521484375]   \n",
       "..                                                 ...   \n",
       "556             [1849.396240234375, 2459.749755859375]   \n",
       "557  [1872.678955078125, 2392.157470703125, 2270.92...   \n",
       "558            [1850.5804443359375, 2294.733642578125]   \n",
       "559                                    [2263.62890625]   \n",
       "560               [1910.8150634765625, 2211.935546875]   \n",
       "\n",
       "                                           DMesons_eta  \\\n",
       "0             [0.9682132005691528, 0.9682132005691528]   \n",
       "1                                [0.08182407170534134]   \n",
       "2           [-1.6619627475738525, -1.6619627475738525]   \n",
       "3         [0.041659336537122726, 0.041659336537122726]   \n",
       "4           [-1.1025604009628296, -1.1025604009628296]   \n",
       "..                                                 ...   \n",
       "556           [-0.064152292907238, -0.064152292907238]   \n",
       "557  [1.7234350442886353, 1.7234350442886353, 1.723...   \n",
       "558       [-0.22858543694019318, -0.22858543694019318]   \n",
       "559                             [-0.15377356112003326]   \n",
       "560             [1.089045524597168, 1.089045524597168]   \n",
       "\n",
       "                                           DMesons_phi  \n",
       "0             [1.2285282611846924, 1.2285282611846924]  \n",
       "1                                  [2.709681510925293]  \n",
       "2         [-0.46051180362701416, -0.46051180362701416]  \n",
       "3               [0.780849277973175, 0.780849277973175]  \n",
       "4             [0.7788794040679932, 0.7788794040679932]  \n",
       "..                                                 ...  \n",
       "556             [2.395824909210205, 2.395824909210205]  \n",
       "557  [-0.5089108347892761, -0.5089108347892761, -0....  \n",
       "558           [0.2433209866285324, 0.2433209866285324]  \n",
       "559                              [-1.8734217882156372]  \n",
       "560         [-2.7747840881347656, -2.7747840881347656]  \n",
       "\n",
       "[561 rows x 4 columns]"
      ]
     },
     "execution_count": 316,
     "metadata": {},
     "output_type": "execute_result"
    }
   ],
   "source": [
    "df = show(0, TTree, [\"DMesons_pt\", \"DMesons_m\", \"DMesons_eta\", \"DMesons_phi\"], 1000)\n",
    "\n",
    "#drop empty rows\n",
    "empty_indices = [i for i, x in enumerate(df['DMesons_pt']) if len(x) == 0]\n",
    "df = df.drop(empty_indices)\n",
    "df = df.reset_index(drop=True)\n",
    "df"
   ]
  },
  {
   "cell_type": "code",
   "execution_count": 231,
   "id": "7c62b27f-2fb1-40e4-99ca-515ad1ae56da",
   "metadata": {},
   "outputs": [
    {
     "data": {
      "image/png": "[encoded data removed]",
      "text/plain": [
       "<Figure size 432x288 with 1 Axes>"
      ]
     },
     "metadata": {
      "needs_background": "light"
     },
     "output_type": "display_data"
    }
   ],
   "source": [
    "DMesons_pt = []\n",
    "for pt in df['DMesons_pt']:\n",
    "    DMesons_pt.extend(pt)\n",
    "\n",
    "# Plot the histogram\n",
    "plt.hist(DMesons_pt, bins=50)\n",
    "plt.xlabel('DMeson Transverse Momentum (GeV/c)')\n",
    "plt.ylabel('Count')\n",
    "plt.title('Distribution of DMeson Transverse Momentum')\n",
    "plt.show()"
   ]
  },
  {
   "cell_type": "code",
   "execution_count": 226,
   "id": "b9f368b5-f523-4472-a19e-86ec817f1922",
   "metadata": {},
   "outputs": [
    {
     "name": "stdout",
     "output_type": "stream",
     "text": [
      "1000\n"
     ]
    }
   ],
   "source": [
    "print(len(df[\"DMesons_pt\"]))"
   ]
  },
  {
   "cell_type": "code",
   "execution_count": null,
   "id": "d6b90d40-9156-4749-bff8-9aeeededc5ce",
   "metadata": {},
   "outputs": [],
   "source": []
  }
 ],
 "metadata": {
  "kernelspec": {
   "display_name": "NERSC Python",
   "language": "python",
   "name": "python3"
  },
  "language_info": {
   "codemirror_mode": {
    "name": "ipython",
    "version": 3
   },
   "file_extension": ".py",
   "mimetype": "text/x-python",
   "name": "python",
   "nbconvert_exporter": "python",
   "pygments_lexer": "ipython3",
   "version": "3.9.7"
  }
 },
 "nbformat": 4,
 "nbformat_minor": 5
}
